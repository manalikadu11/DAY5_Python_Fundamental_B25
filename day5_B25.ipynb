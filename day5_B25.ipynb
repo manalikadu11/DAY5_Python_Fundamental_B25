{
 "cells": [
  {
   "cell_type": "code",
   "execution_count": null,
   "metadata": {},
   "outputs": [],
   "source": [
    "list dataypes"
   ]
  },
  {
   "cell_type": "code",
   "execution_count": 4,
   "metadata": {},
   "outputs": [
    {
     "name": "stdout",
     "output_type": "stream",
     "text": [
      "['vaibhav', 'sameer', 'mansi', 'sakshi', 'manali', 'suraksha', 'kiran', 'akshitha']\n"
     ]
    }
   ],
   "source": [
    "students=['vaibhav','sameer','mansi','sakshi','manali','suraksha','kiran','akshitha']\n",
    "print(students)"
   ]
  },
  {
   "cell_type": "code",
   "execution_count": 6,
   "metadata": {},
   "outputs": [
    {
     "data": {
      "text/plain": [
       "list"
      ]
     },
     "execution_count": 6,
     "metadata": {},
     "output_type": "execute_result"
    }
   ],
   "source": [
    "type(students)"
   ]
  },
  {
   "cell_type": "code",
   "execution_count": 7,
   "metadata": {},
   "outputs": [],
   "source": [
    "#to appreciate the list of students above\n"
   ]
  },
  {
   "cell_type": "code",
   "execution_count": 9,
   "metadata": {},
   "outputs": [
    {
     "name": "stdout",
     "output_type": "stream",
     "text": [
      "keep up the good work,vaibhav\n"
     ]
    }
   ],
   "source": [
    "print(f\"keep up the good work,{students[0]}\")"
   ]
  },
  {
   "cell_type": "code",
   "execution_count": null,
   "metadata": {},
   "outputs": [],
   "source": [
    "INTRODUCTION TO for loops: "
   ]
  },
  {
   "cell_type": "code",
   "execution_count": null,
   "metadata": {},
   "outputs": [],
   "source": [
    "#implementation of a for loop\""
   ]
  },
  {
   "cell_type": "code",
   "execution_count": 10,
   "metadata": {},
   "outputs": [
    {
     "name": "stdout",
     "output_type": "stream",
     "text": [
      "vaibhav\n",
      "sameer\n",
      "mansi\n",
      "sakshi\n",
      "manali\n",
      "suraksha\n",
      "kiran\n",
      "akshitha\n"
     ]
    }
   ],
   "source": [
    "for x in students:\n",
    "    print(x)"
   ]
  },
  {
   "cell_type": "code",
   "execution_count": null,
   "metadata": {},
   "outputs": [],
   "source": [
    "#enhancement of the loops:"
   ]
  },
  {
   "cell_type": "code",
   "execution_count": 11,
   "metadata": {},
   "outputs": [
    {
     "name": "stdout",
     "output_type": "stream",
     "text": [
      "keep up the good work,vaibhav\n",
      "keep up the good work,sameer\n",
      "keep up the good work,mansi\n",
      "keep up the good work,sakshi\n",
      "keep up the good work,manali\n",
      "keep up the good work,suraksha\n",
      "keep up the good work,kiran\n",
      "keep up the good work,akshitha\n"
     ]
    }
   ],
   "source": [
    "for x in students:\n",
    "    print(f\"keep up the good work,{x}\")"
   ]
  },
  {
   "cell_type": "code",
   "execution_count": 12,
   "metadata": {},
   "outputs": [
    {
     "name": "stdout",
     "output_type": "stream",
     "text": [
      "vaibhav\n",
      "sameer\n",
      "mansi\n",
      "sakshi\n",
      "manali\n",
      "suraksha\n",
      "kiran\n",
      "akshitha\n"
     ]
    }
   ],
   "source": [
    "for batman in students:\n",
    "    print(batman)"
   ]
  },
  {
   "cell_type": "code",
   "execution_count": 16,
   "metadata": {},
   "outputs": [
    {
     "name": "stdout",
     "output_type": "stream",
     "text": [
      "keep up the good work,vaibhav\n",
      "i will be looking to receive your file of today,vaibhav\n",
      "keep up the good work,sameer\n",
      "i will be looking to receive your file of today,sameer\n",
      "keep up the good work,mansi\n",
      "i will be looking to receive your file of today,mansi\n",
      "keep up the good work,sakshi\n",
      "i will be looking to receive your file of today,sakshi\n",
      "keep up the good work,manali\n",
      "i will be looking to receive your file of today,manali\n",
      "keep up the good work,suraksha\n",
      "i will be looking to receive your file of today,suraksha\n",
      "keep up the good work,kiran\n",
      "i will be looking to receive your file of today,kiran\n",
      "keep up the good work,akshitha\n",
      "i will be looking to receive your file of today,akshitha\n"
     ]
    }
   ],
   "source": [
    "for x in students:\n",
    "    print(f\"keep up the good work,{x}\")\n",
    "    print(f\"i will be looking to receive your file of today,{x}\")"
   ]
  },
  {
   "cell_type": "code",
   "execution_count": 17,
   "metadata": {},
   "outputs": [
    {
     "name": "stdout",
     "output_type": "stream",
     "text": [
      "keep up the good work,vaibhav\n",
      "i will be looking to receive your file of today,vaibhav.\n",
      "\n",
      "keep up the good work,sameer\n",
      "i will be looking to receive your file of today,sameer.\n",
      "\n",
      "keep up the good work,mansi\n",
      "i will be looking to receive your file of today,mansi.\n",
      "\n",
      "keep up the good work,sakshi\n",
      "i will be looking to receive your file of today,sakshi.\n",
      "\n",
      "keep up the good work,manali\n",
      "i will be looking to receive your file of today,manali.\n",
      "\n",
      "keep up the good work,suraksha\n",
      "i will be looking to receive your file of today,suraksha.\n",
      "\n",
      "keep up the good work,kiran\n",
      "i will be looking to receive your file of today,kiran.\n",
      "\n",
      "keep up the good work,akshitha\n",
      "i will be looking to receive your file of today,akshitha.\n",
      "\n"
     ]
    }
   ],
   "source": [
    "for x in students:\n",
    "    print(f\"keep up the good work,{x}\")\n",
    "    print(f\"i will be looking to receive your file of today,{x}.\\n\")"
   ]
  },
  {
   "cell_type": "code",
   "execution_count": 18,
   "metadata": {},
   "outputs": [
    {
     "name": "stdout",
     "output_type": "stream",
     "text": [
      "keep up the good work,vaibhav\n",
      "i will be looking to receive your file of today,vaibhav.\n",
      "\n",
      "keep up the good work,sameer\n",
      "i will be looking to receive your file of today,sameer.\n",
      "\n",
      "keep up the good work,mansi\n",
      "i will be looking to receive your file of today,mansi.\n",
      "\n",
      "keep up the good work,sakshi\n",
      "i will be looking to receive your file of today,sakshi.\n",
      "\n",
      "keep up the good work,manali\n",
      "i will be looking to receive your file of today,manali.\n",
      "\n",
      "keep up the good work,suraksha\n",
      "i will be looking to receive your file of today,suraksha.\n",
      "\n",
      "keep up the good work,kiran\n",
      "i will be looking to receive your file of today,kiran.\n",
      "\n",
      "keep up the good work,akshitha\n",
      "i will be looking to receive your file of today,akshitha.\n",
      "\n",
      "thank you for showing interest in learning python\n"
     ]
    }
   ],
   "source": [
    "for x in students:\n",
    "    print(f\"keep up the good work,{x}\")\n",
    "    print(f\"i will be looking to receive your file of today,{x}.\\n\")\n",
    "    \n",
    "print('thank you for showing interest in learning python')"
   ]
  },
  {
   "cell_type": "code",
   "execution_count": null,
   "metadata": {},
   "outputs": [],
   "source": []
  }
 ],
 "metadata": {
  "kernelspec": {
   "display_name": "Python 3",
   "language": "python",
   "name": "python3"
  },
  "language_info": {
   "codemirror_mode": {
    "name": "ipython",
    "version": 3
   },
   "file_extension": ".py",
   "mimetype": "text/x-python",
   "name": "python",
   "nbconvert_exporter": "python",
   "pygments_lexer": "ipython3",
   "version": "3.7.6"
  }
 },
 "nbformat": 4,
 "nbformat_minor": 4
}
